{
 "cells": [
  {
   "cell_type": "code",
   "execution_count": 5,
   "id": "f0f8025f",
   "metadata": {},
   "outputs": [],
   "source": [
    "def add(x,y):\n",
    "    return x + y"
   ]
  },
  {
   "cell_type": "code",
   "execution_count": 3,
   "id": "259e5d38",
   "metadata": {},
   "outputs": [
    {
     "name": "stdout",
     "output_type": "stream",
     "text": [
      "hello world\n"
     ]
    }
   ],
   "source": [
    "print(\"hello world\")"
   ]
  },
  {
   "cell_type": "code",
   "execution_count": 6,
   "id": "3a53a279",
   "metadata": {},
   "outputs": [
    {
     "data": {
      "text/plain": [
       "8"
      ]
     },
     "execution_count": 6,
     "metadata": {},
     "output_type": "execute_result"
    }
   ],
   "source": [
    "add(5,3)"
   ]
  },
  {
   "cell_type": "code",
   "execution_count": 7,
   "id": "07529622",
   "metadata": {},
   "outputs": [
    {
     "data": {
      "text/plain": [
       "11"
      ]
     },
     "execution_count": 7,
     "metadata": {},
     "output_type": "execute_result"
    }
   ],
   "source": [
    "add(4,7)"
   ]
  },
  {
   "cell_type": "code",
   "execution_count": 9,
   "id": "20ea9edb",
   "metadata": {},
   "outputs": [],
   "source": [
    "def sub(x,y):\n",
    "    return x - y"
   ]
  },
  {
   "cell_type": "code",
   "execution_count": 13,
   "id": "1779a7b9",
   "metadata": {
    "scrolled": true
   },
   "outputs": [
    {
     "data": {
      "text/plain": [
       "7"
      ]
     },
     "execution_count": 13,
     "metadata": {},
     "output_type": "execute_result"
    }
   ],
   "source": [
    "sub(11,4)"
   ]
  },
  {
   "cell_type": "code",
   "execution_count": 14,
   "id": "516f5a61",
   "metadata": {},
   "outputs": [
    {
     "data": {
      "text/plain": [
       "2"
      ]
     },
     "execution_count": 14,
     "metadata": {},
     "output_type": "execute_result"
    }
   ],
   "source": [
    "sub(5,3)"
   ]
  },
  {
   "cell_type": "code",
   "execution_count": 35,
   "id": "33570664",
   "metadata": {},
   "outputs": [],
   "source": [
    "class calc:\n",
    "    def addsub(self,opcode,in1,in2):\n",
    "        \"\"\"this function will execute add or sub haha\n",
    "            opcode = input 1\n",
    "            in1 = operand 1\n",
    "            in2 = operand 2\n",
    "        \"\"\"\n",
    "        if opcode == \"add\": #add\n",
    "            print (\"adding\")\n",
    "            print(add(in1,in2))\n",
    "        else: #sub\n",
    "            print (\"subtracting\")\n",
    "            print (sub(in1,in2))\n",
    "        \n",
    "        print(\"done\")\n",
    "        return \"xyz\""
   ]
  },
  {
   "cell_type": "code",
   "execution_count": 36,
   "id": "de34d4aa",
   "metadata": {},
   "outputs": [
    {
     "name": "stdout",
     "output_type": "stream",
     "text": [
      "adding\n",
      "3\n",
      "done\n"
     ]
    },
    {
     "data": {
      "text/plain": [
       "'xyz'"
      ]
     },
     "execution_count": 36,
     "metadata": {},
     "output_type": "execute_result"
    }
   ],
   "source": [
    "c = calc()\n",
    "c.addsub(\"add\",1,2)"
   ]
  },
  {
   "cell_type": "code",
   "execution_count": 30,
   "id": "d7c31a09",
   "metadata": {
    "scrolled": true
   },
   "outputs": [
    {
     "name": "stdout",
     "output_type": "stream",
     "text": [
      "adding\n",
      "3\n",
      "done\n"
     ]
    }
   ],
   "source": [
    "calc.addsub(c, \"add\",1,2)"
   ]
  },
  {
   "cell_type": "code",
   "execution_count": 31,
   "id": "3a3d6cb8",
   "metadata": {},
   "outputs": [
    {
     "data": {
      "text/plain": [
       "\"\\ninstance methods (first parameter = instance itself)\\nclass methods (first parameter = class itself)\\nstatic methods (no first, doesn't matter)\\n\""
      ]
     },
     "execution_count": 31,
     "metadata": {},
     "output_type": "execute_result"
    }
   ],
   "source": [
    "\"\"\"\n",
    "instance methods (first parameter = instance itself)\n",
    "class methods (first parameter = class itself)\n",
    "static methods (no first, doesn't matter)\n",
    "\"\"\""
   ]
  },
  {
   "cell_type": "code",
   "execution_count": 38,
   "id": "84c6fd08",
   "metadata": {},
   "outputs": [],
   "source": [
    "c.name = \"Brian\""
   ]
  },
  {
   "cell_type": "code",
   "execution_count": 39,
   "id": "d838dd82",
   "metadata": {},
   "outputs": [
    {
     "data": {
      "text/plain": [
       "'Brian'"
      ]
     },
     "execution_count": 39,
     "metadata": {},
     "output_type": "execute_result"
    }
   ],
   "source": [
    "c.name"
   ]
  },
  {
   "cell_type": "code",
   "execution_count": 40,
   "id": "d9094f71",
   "metadata": {},
   "outputs": [],
   "source": [
    "calc.greeting = \"hi\""
   ]
  },
  {
   "cell_type": "code",
   "execution_count": 41,
   "id": "107a0769",
   "metadata": {},
   "outputs": [
    {
     "data": {
      "text/plain": [
       "'hi'"
      ]
     },
     "execution_count": 41,
     "metadata": {},
     "output_type": "execute_result"
    }
   ],
   "source": [
    "c.greeting"
   ]
  },
  {
   "cell_type": "code",
   "execution_count": 42,
   "id": "7dae1a2c",
   "metadata": {},
   "outputs": [
    {
     "ename": "AttributeError",
     "evalue": "type object 'calc' has no attribute 'name'",
     "output_type": "error",
     "traceback": [
      "\u001b[1;31m---------------------------------------------------------------------------\u001b[0m",
      "\u001b[1;31mAttributeError\u001b[0m                            Traceback (most recent call last)",
      "Input \u001b[1;32mIn [42]\u001b[0m, in \u001b[0;36m<cell line: 1>\u001b[1;34m()\u001b[0m\n\u001b[1;32m----> 1\u001b[0m \u001b[43mcalc\u001b[49m\u001b[38;5;241;43m.\u001b[39;49m\u001b[43mname\u001b[49m\n",
      "\u001b[1;31mAttributeError\u001b[0m: type object 'calc' has no attribute 'name'"
     ]
    }
   ],
   "source": [
    "calc.name"
   ]
  },
  {
   "cell_type": "code",
   "execution_count": 46,
   "id": "357030f1",
   "metadata": {},
   "outputs": [
    {
     "ename": "AttributeError",
     "evalue": "greeting",
     "output_type": "error",
     "traceback": [
      "\u001b[1;31m---------------------------------------------------------------------------\u001b[0m",
      "\u001b[1;31mAttributeError\u001b[0m                            Traceback (most recent call last)",
      "Input \u001b[1;32mIn [46]\u001b[0m, in \u001b[0;36m<cell line: 1>\u001b[1;34m()\u001b[0m\n\u001b[1;32m----> 1\u001b[0m \u001b[38;5;28;01mdel\u001b[39;00m c\u001b[38;5;241m.\u001b[39mgreeting\n",
      "\u001b[1;31mAttributeError\u001b[0m: greeting"
     ]
    }
   ],
   "source": [
    "del c.greeting"
   ]
  },
  {
   "cell_type": "code",
   "execution_count": 44,
   "id": "b8ad633d",
   "metadata": {},
   "outputs": [],
   "source": [
    "del calc.greeting"
   ]
  },
  {
   "cell_type": "code",
   "execution_count": 45,
   "id": "5ed99cfc",
   "metadata": {},
   "outputs": [
    {
     "ename": "AttributeError",
     "evalue": "type object 'calc' has no attribute 'greeting'",
     "output_type": "error",
     "traceback": [
      "\u001b[1;31m---------------------------------------------------------------------------\u001b[0m",
      "\u001b[1;31mAttributeError\u001b[0m                            Traceback (most recent call last)",
      "Input \u001b[1;32mIn [45]\u001b[0m, in \u001b[0;36m<cell line: 1>\u001b[1;34m()\u001b[0m\n\u001b[1;32m----> 1\u001b[0m \u001b[43mcalc\u001b[49m\u001b[38;5;241;43m.\u001b[39;49m\u001b[43mgreeting\u001b[49m\n",
      "\u001b[1;31mAttributeError\u001b[0m: type object 'calc' has no attribute 'greeting'"
     ]
    }
   ],
   "source": [
    "calc.greeting"
   ]
  },
  {
   "cell_type": "code",
   "execution_count": null,
   "id": "35cc96e2",
   "metadata": {},
   "outputs": [],
   "source": []
  }
 ],
 "metadata": {
  "kernelspec": {
   "display_name": "Python 3 (ipykernel)",
   "language": "python",
   "name": "python3"
  },
  "language_info": {
   "codemirror_mode": {
    "name": "ipython",
    "version": 3
   },
   "file_extension": ".py",
   "mimetype": "text/x-python",
   "name": "python",
   "nbconvert_exporter": "python",
   "pygments_lexer": "ipython3",
   "version": "3.9.12"
  }
 },
 "nbformat": 4,
 "nbformat_minor": 5
}
